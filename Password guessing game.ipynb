{
 "cells": [
  {
   "cell_type": "code",
   "execution_count": 1,
   "id": "4bae4615-83ed-4bc6-93a7-3b5e60eec33c",
   "metadata": {},
   "outputs": [
    {
     "name": "stdout",
     "output_type": "stream",
     "text": [
      "Welcome to the password guessing game\n",
      "Choose a difficulty level: easy, medium or hard\n"
     ]
    },
    {
     "name": "stdin",
     "output_type": "stream",
     "text": [
      "Enter difficulty:  easy\n"
     ]
    },
    {
     "name": "stdout",
     "output_type": "stream",
     "text": [
      "\n",
      "Guess the secret password\n"
     ]
    },
    {
     "name": "stdin",
     "output_type": "stream",
     "text": [
      "Enter your guess:  traun\n"
     ]
    },
    {
     "name": "stdout",
     "output_type": "stream",
     "text": [
      "Hint: tra_n\n"
     ]
    },
    {
     "name": "stdin",
     "output_type": "stream",
     "text": [
      "Enter your guess:  train\n"
     ]
    },
    {
     "name": "stdout",
     "output_type": "stream",
     "text": [
      "Congratulations! You guessed it in 2 attempts.\n",
      "Game over\n"
     ]
    }
   ],
   "source": [
    "# 1. Import the random module\n",
    "import random\n",
    "\n",
    "# 2. Take variables\n",
    "easy_words = [\"Apple\", \"train\", \"tiger\", \"Monkey\", \"India\"]\n",
    "medium_words = [\"Python\", \"Laptop\", \"Bottle\", \"Planet\", \"Entrepreneur\"]\n",
    "hard_words = [\"Elephant\", \"Tiger\", \"Umbrella\", \"Computer\", \"Mountain\"]\n",
    "\n",
    "# 3. Show welcome message and rules\n",
    "print(\"Welcome to the password guessing game\")\n",
    "print(\"Choose a difficulty level: easy, medium or hard\")\n",
    "\n",
    "# 4. User chooses difficulty\n",
    "level = input(\"Enter difficulty: \").lower()\n",
    "\n",
    "if level == \"easy\":\n",
    "    secret = random.choice(easy_words).lower()\n",
    "elif level == \"medium\":\n",
    "    secret = random.choice(medium_words).lower()\n",
    "elif level == \"hard\":\n",
    "    secret = random.choice(hard_words).lower()\n",
    "else:\n",
    "    print(\"Invalid choice. Defaulting to easy level.\")\n",
    "    secret = random.choice(easy_words).lower()\n",
    "\n",
    "# 5. Show the attempts\n",
    "attempts = 0\n",
    "print(\"\\nGuess the secret password\")\n",
    "\n",
    "# 6. Guess the words\n",
    "while True:\n",
    "    guess = input(\"Enter your guess: \").lower()\n",
    "    attempts += 1\n",
    "\n",
    "    if guess == secret:\n",
    "        print(f\"Congratulations! You guessed it in {attempts} attempts.\")\n",
    "        break\n",
    "\n",
    "    # 7. Give a hint: show which letters are correct\n",
    "    hint = \"\"\n",
    "    for i in range(len(secret)):\n",
    "        if i < len(guess) and guess[i] == secret[i]:\n",
    "            hint += guess[i]\n",
    "        else:\n",
    "            hint += \"_\"\n",
    "    print(\"Hint:\", hint)\n",
    "\n",
    "# 8. End of the program\n",
    "print(\"Game over\")"
   ]
  },
  {
   "cell_type": "code",
   "execution_count": null,
   "id": "ead16acd-a77a-4ab3-bd45-7e30a151c314",
   "metadata": {},
   "outputs": [],
   "source": []
  }
 ],
 "metadata": {
  "kernelspec": {
   "display_name": "Python 3 (ipykernel)",
   "language": "python",
   "name": "python3"
  },
  "language_info": {
   "codemirror_mode": {
    "name": "ipython",
    "version": 3
   },
   "file_extension": ".py",
   "mimetype": "text/x-python",
   "name": "python",
   "nbconvert_exporter": "python",
   "pygments_lexer": "ipython3",
   "version": "3.12.4"
  }
 },
 "nbformat": 4,
 "nbformat_minor": 5
}
